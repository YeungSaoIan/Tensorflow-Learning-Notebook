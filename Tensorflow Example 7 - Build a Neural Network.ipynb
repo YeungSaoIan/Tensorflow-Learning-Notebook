{
 "cells": [
  {
   "cell_type": "markdown",
   "metadata": {},
   "source": [
    "# Build a Neural Network"
   ]
  },
  {
   "cell_type": "markdown",
   "metadata": {},
   "source": [
    "#### 請搭配教學影片服用\n",
    "#### Tutorial video: https://www.youtube.com/watch?v=S9wBMi2B4Ss"
   ]
  },
  {
   "cell_type": "code",
   "execution_count": 1,
   "metadata": {},
   "outputs": [],
   "source": [
    "#import tensorflow, numpy模組\n",
    "import tensorflow as tf\n",
    "import numpy as np"
   ]
  },
  {
   "cell_type": "code",
   "execution_count": 2,
   "metadata": {},
   "outputs": [],
   "source": [
    "#重要!!!!!\n",
    "#清理顯卡內存\n",
    "#防止顯卡內存不足報錯&提高速度\n",
    "gpu_options = tf.GPUOptions(per_process_gpu_memory_fraction=0.333)  \n",
    "sess = tf.Session(config=tf.ConfigProto(gpu_options=gpu_options))  "
   ]
  },
  {
   "cell_type": "code",
   "execution_count": 3,
   "metadata": {},
   "outputs": [],
   "source": [
    "#定義add_layer功能(添加神經層)\n",
    "#inputs, in_size, out_size, activation_funchion=None激勵函數\n",
    "def add_layer(inputs, in_size, out_size, activation_function=None):\n",
    "    Weights = tf.Variable(tf.random_normal([in_size, out_size]))\n",
    "    biases = tf.Variable(tf.zeros([1, out_size]) + 0.1)\n",
    "    Wx_plus_b = tf.matmul(inputs, Weights) + biases #y=wx+b\n",
    "    if activation_function is None:\n",
    "        outputs = Wx_plus_b\n",
    "    else:\n",
    "        outputs = activation_function(Wx_plus_b)\n",
    "    return outputs"
   ]
  },
  {
   "cell_type": "code",
   "execution_count": 4,
   "metadata": {},
   "outputs": [],
   "source": [
    "#輸入資料\n",
    "x_data = np.linspace(-1, 1, 300)[:, np.newaxis] #生成300個區間為[-1,1]的數值, 然後縱向生成一個維度 #維度為一\n",
    "noise = np.random.normal(0, 0.05, x_data.shape)\n",
    "y_data = np.square(x_data) - 0.5 + noise\n",
    "\n",
    "#預留輸入給sess.run()進行訓練\n",
    "xs = tf.placeholder(tf.float32, [None, 1])\n",
    "ys = tf.placeholder(tf.float32, [None, 1])"
   ]
  },
  {
   "cell_type": "code",
   "execution_count": 12,
   "metadata": {},
   "outputs": [
    {
     "name": "stdout",
     "output_type": "stream",
     "text": [
      "0.22145649790763855\n",
      "50.00885165017098\n",
      "100.00740088056773\n",
      "150.00662744697183\n",
      "200.00616358127445\n",
      "250.00579681945965\n",
      "300.0054458878003\n",
      "350.00517981220037\n",
      "400.00499055488035\n",
      "450.0048567461781\n",
      "500.0047716810368\n",
      "550.0047012753785\n",
      "600.0046412008815\n",
      "650.0045973137021\n",
      "700.0045598768629\n",
      "750.0045170281082\n",
      "800.004472386092\n",
      "850.0044320276938\n",
      "900.0043957470916\n",
      "950.0043602250516\n"
     ]
    }
   ],
   "source": [
    "#新增一層神經網路l1(隱藏層)\n",
    "l1 = add_layer(xs, 1, 10, activation_function=tf.nn.relu)\n",
    "#inputs, in_size, out_size, activation_function\n",
    "#輸入數據, 輸入數據input data size, 隱藏層神經元數量, 激勵函數\n",
    "\n",
    "#新增一層輸出層predition\n",
    "predition = add_layer(l1, 10, 1, activation_function=None)\n",
    "#inputs, in_size, out_size, activation_function\n",
    "#輸入數據  *來自l1隱藏層=xs, 輸入數據size  *隱藏層size, 神經元輸出數量, 激勵函數\n",
    "\n",
    "#評估 predition值 與 y_data真實值的差別  (y_data輸入=ys)-prediction #方差\n",
    "loss = tf.reduce_mean(tf.reduce_sum(tf.square(ys - predition),reduction_indices=[1])) #方差\n",
    "\n",
    "train_step = tf.train.GradientDescentOptimizer(0.1).minimize(loss) #優化器 #優化函數:梯度下降 #0.1為Learning rate \n",
    "\n",
    "init = tf.global_variables_initializer() #初始化/激活所有變量(Variable) #must have if define variable\n",
    "sess = tf.Session()\n",
    "sess.run(init)\n",
    "\n",
    "for i in range(1000):\n",
    "    sess.run(train_step, feed_dict={xs: x_data, ys: y_data}) #輸入x_data = xs, y_data = ys\n",
    "    if i % 50 == 0:\n",
    "        print(i + sess.run(loss, feed_dict={xs: x_data, ys: y_data})) #每50步print loss檢視訓練成效"
   ]
  },
  {
   "cell_type": "code",
   "execution_count": null,
   "metadata": {},
   "outputs": [],
   "source": []
  },
  {
   "cell_type": "code",
   "execution_count": null,
   "metadata": {},
   "outputs": [],
   "source": []
  },
  {
   "cell_type": "code",
   "execution_count": null,
   "metadata": {},
   "outputs": [],
   "source": []
  },
  {
   "cell_type": "code",
   "execution_count": null,
   "metadata": {},
   "outputs": [],
   "source": []
  },
  {
   "cell_type": "code",
   "execution_count": null,
   "metadata": {},
   "outputs": [],
   "source": []
  },
  {
   "cell_type": "code",
   "execution_count": null,
   "metadata": {},
   "outputs": [],
   "source": []
  },
  {
   "cell_type": "code",
   "execution_count": null,
   "metadata": {},
   "outputs": [],
   "source": []
  },
  {
   "cell_type": "code",
   "execution_count": null,
   "metadata": {},
   "outputs": [],
   "source": []
  },
  {
   "cell_type": "code",
   "execution_count": null,
   "metadata": {},
   "outputs": [],
   "source": []
  },
  {
   "cell_type": "code",
   "execution_count": null,
   "metadata": {},
   "outputs": [],
   "source": []
  },
  {
   "cell_type": "code",
   "execution_count": null,
   "metadata": {},
   "outputs": [],
   "source": []
  },
  {
   "cell_type": "code",
   "execution_count": null,
   "metadata": {},
   "outputs": [],
   "source": []
  },
  {
   "cell_type": "code",
   "execution_count": null,
   "metadata": {},
   "outputs": [],
   "source": []
  },
  {
   "cell_type": "code",
   "execution_count": null,
   "metadata": {},
   "outputs": [],
   "source": []
  },
  {
   "cell_type": "code",
   "execution_count": null,
   "metadata": {},
   "outputs": [],
   "source": []
  },
  {
   "cell_type": "code",
   "execution_count": null,
   "metadata": {},
   "outputs": [],
   "source": []
  },
  {
   "cell_type": "code",
   "execution_count": null,
   "metadata": {},
   "outputs": [],
   "source": []
  }
 ],
 "metadata": {
  "kernelspec": {
   "display_name": "Python 3",
   "language": "python",
   "name": "python3"
  },
  "language_info": {
   "codemirror_mode": {
    "name": "ipython",
    "version": 3
   },
   "file_extension": ".py",
   "mimetype": "text/x-python",
   "name": "python",
   "nbconvert_exporter": "python",
   "pygments_lexer": "ipython3",
   "version": "3.7.3"
  }
 },
 "nbformat": 4,
 "nbformat_minor": 2
}
