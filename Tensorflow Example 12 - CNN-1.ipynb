{
 "cells": [
  {
   "cell_type": "markdown",
   "metadata": {},
   "source": [
    "# CNN - Convolutional Neural Networks.....Tutorial 1"
   ]
  },
  {
   "cell_type": "markdown",
   "metadata": {},
   "source": [
    "#### 請搭配教學影片服用\n",
    "#### Tutorial video: \n",
    "- CNN概念 https://www.youtube.com/watch?v=tjcgL5RIdTM\n",
    "- Tensorflow實現CNN-1 https://www.youtube.com/watch?v=tjcgL5RIdTM"
   ]
  },
  {
   "cell_type": "code",
   "execution_count": null,
   "metadata": {},
   "outputs": [],
   "source": [
    "#import tensorflow模組\n",
    "import tensorflow as tf\n",
    "#import mnist data 手寫數字資料集\n",
    "from tensorflow.examples.tutorial.mnist import input_data"
   ]
  },
  {
   "cell_type": "code",
   "execution_count": null,
   "metadata": {},
   "outputs": [],
   "source": [
    "#讀取mnist data\n",
    "mnist = input_data.read_data_sets('MNIST_data', one_hot=True)"
   ]
  },
  {
   "cell_type": "code",
   "execution_count": null,
   "metadata": {},
   "outputs": [],
   "source": [
    "#定義compute_accuracy準確率功能___validation data\n",
    "def compute_accuracy(v_xs,v_ys):\n",
    "    global prediction #把prediction設成全域變量\n",
    "    y_pre = sess.run(prediction, feed_dict={xs: v_xs}) #xs輸入到prediction生成預測值\n",
    "    correct_prediction = tf.equal(tf.argmax(y_pre,1), tf.argmax(v_ys,1)) #計算預測正確次數\n",
    "    accuracy = tf.reduce_mean(tf.cast(correct_prediction, tf.float32)) #計算準確率\n",
    "    result = sess.run(accuracy, feed_dict={xs: v_xs, ys: v_ys})\n",
    "    return result"
   ]
  },
  {
   "cell_type": "code",
   "execution_count": null,
   "metadata": {},
   "outputs": [],
   "source": [
    "#定義權重函數(輸入shape)\n",
    "def weight_variable(shape):\n",
    "    inital = tf.truncated_normal(shape, sttdev=0.1)\n",
    "    #tf.truncated_normal()函式是一種“截斷”方式生成正太分佈隨機值\n",
    "    #“截斷”意思指生成的隨機數值與均值的差不能大於兩倍中誤差，否則會重新生成\n",
    "    #\n",
    "    #參數說明：\n",
    "        #shape：表示生成隨機數的維度\n",
    "        #mean：正太分佈的均值，預設為0\n",
    "        #stddev：正太分佈的標準差\n",
    "        #dtype：生成正太分佈資料的型別\n",
    "        #seed：一個整數，當設定之後，每次生成的隨機數都一樣\n",
    "        #name：正太分佈的名字\n",
    "    return tf.Variable(inital)"
   ]
  },
  {
   "cell_type": "code",
   "execution_count": null,
   "metadata": {},
   "outputs": [],
   "source": [
    "#定義偏差函數(輸入shape)\n",
    "def bias_variable(shape):\n",
    "    inital = tf.constant(0.1,shape=shape) #生成常數0.1\n",
    "    return tf.Variable(inital)"
   ]
  },
  {
   "cell_type": "code",
   "execution_count": null,
   "metadata": {},
   "outputs": [],
   "source": [
    "#定義卷積層\n",
    "def conv2d(x, W):\n",
    "    return tf.nn.conv2d(x, W, strides=[1,1,1,1],padding='SAME') \n",
    "    #tf.nn.conv2d -> tensorflow卷積層，參數(x=輸入sample/影像size, W=卷積層權重, \n",
    "    #strides=kernel掃描影像間距(unit=px)= [1是Tensorflow規定,x方向跨度,y方向跨度,1是Tensorflow規定])\n",
    "    #strides=[1,x_movement,y_movement,1]\n",
    "    #Must have strides[0] = strides[3] = 1\n",
    "    #Padding參數:\n",
    "    #-'SAME':kernel掃描part of patch outside of this image, it will fill the outer area as 0, 掃描完後組合起來的影像Size=原圖\n",
    "    #-'VALID':kernel掃描範圍always in image,掃描完後組合起來的影像會比原圖小 "
   ]
  },
  {
   "cell_type": "code",
   "execution_count": null,
   "metadata": {},
   "outputs": [],
   "source": [
    "#定義pooling 把影像組合起來囉\n",
    "def max_pool_2x2(x):\n",
    "    return tf.nn.max_pool(x, ksize=[1,2,2,1], strides=[1,2,2,1],padding='SAME')\n",
    "#tf.nn.max_pool -> max pooling卷積層，參數(x=輸入sample/影像size, 不用輸入權重,\n",
    "#Must have strides[0] = strides[3] = 1\n",
    "#掃描影像間距，透過把x_movement,y_movement增加，壓縮影像。 -> strides=[1,2,2,1]"
   ]
  },
  {
   "cell_type": "code",
   "execution_count": null,
   "metadata": {},
   "outputs": [],
   "source": []
  },
  {
   "cell_type": "code",
   "execution_count": null,
   "metadata": {},
   "outputs": [],
   "source": []
  },
  {
   "cell_type": "code",
   "execution_count": null,
   "metadata": {},
   "outputs": [],
   "source": []
  }
 ],
 "metadata": {
  "kernelspec": {
   "display_name": "Python 3",
   "language": "python",
   "name": "python3"
  },
  "language_info": {
   "codemirror_mode": {
    "name": "ipython",
    "version": 3
   },
   "file_extension": ".py",
   "mimetype": "text/x-python",
   "name": "python",
   "nbconvert_exporter": "python",
   "pygments_lexer": "ipython3",
   "version": "3.7.3"
  }
 },
 "nbformat": 4,
 "nbformat_minor": 2
}
