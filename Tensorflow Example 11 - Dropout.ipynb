{
 "cells": [
  {
   "cell_type": "markdown",
   "metadata": {},
   "source": [
    "# Dropout"
   ]
  },
  {
   "cell_type": "markdown",
   "metadata": {},
   "source": [
    "#### 請搭配教學影片服用\n",
    "#### Tutorial video: https://www.youtube.com/watch?v=f2F9Xsd7KVk"
   ]
  },
  {
   "cell_type": "markdown",
   "metadata": {},
   "source": [
    "#### 讀取tensorflow, numpy套件"
   ]
  },
  {
   "cell_type": "code",
   "execution_count": 1,
   "metadata": {},
   "outputs": [],
   "source": [
    "import tensorflow as tf\n",
    "from sklearn.datasets import load_digits\n",
    "#from sklearn.cross_validation import train_test_split 舊版代碼，變成sklearn.model_selection\n",
    "from sklearn.model_selection import train_test_split\n",
    "from sklearn.preprocessing import LabelBinarizer"
   ]
  },
  {
   "cell_type": "markdown",
   "metadata": {},
   "source": [
    "#### 讀取digits Dataset"
   ]
  },
  {
   "cell_type": "code",
   "execution_count": 2,
   "metadata": {},
   "outputs": [],
   "source": [
    "#load data\n",
    "digits = load_digits() #載入digits數字圖片\n",
    "X = digits.data #影像像素為64=8*8的數字圖片\n",
    "y = digits.target #維度為10的one-hot encoding,表示0-9數字\n",
    "y = LabelBinarizer().fit_transform(y)\n",
    "X_train, X_test, y_train, y_test = train_test_split(X, y, test_size=.3)"
   ]
  },
  {
   "cell_type": "markdown",
   "metadata": {},
   "source": [
    "#### 定義add_layer功能(添加神經層)"
   ]
  },
  {
   "cell_type": "code",
   "execution_count": 3,
   "metadata": {},
   "outputs": [],
   "source": [
    "#定義add_layer功能(添加神經層)\n",
    "#inputs, in_size, out_size, activation_funchion=None激勵函數\n",
    "def add_layer(inputs, in_size, out_size, activation_function=None):\n",
    "    # add one more layer and return the output of this layer\n",
    "    Weights = tf.Variable(tf.random_normal([in_size, out_size]))\n",
    "    biases = tf.Variable(tf.zeros([1, out_size]) + 0.1,)\n",
    "    Wx_plus_b = tf.matmul(inputs, Weights) + biases\n",
    "    # -> 加入dropout功能\n",
    "    Wx_plus_b = tf.nn.dropout(Wx_plus_b, keep_prob)\n",
    "    if activation_function is None:\n",
    "        outputs = Wx_plus_b\n",
    "    else:\n",
    "        outputs = activation_function(Wx_plus_b,)\n",
    "    tf.summary.histogram(layer_name + '/outputs', outputs)\n",
    "    return outputs"
   ]
  },
  {
   "cell_type": "markdown",
   "metadata": {},
   "source": [
    "#### Input"
   ]
  },
  {
   "cell_type": "code",
   "execution_count": 4,
   "metadata": {},
   "outputs": [],
   "source": [
    "#keep_prob保留多少百分比的神經元不被dropout\n",
    "keep_prob = tf.placeholder(tf.float32)\n",
    "#輸入data xs->placeholder, float32型態,None不規定sample數量,64=8*8輸入影像像素\n",
    "xs = tf.placeholder(tf.float32,[None,64])\n",
    "#輸入data ys->placeholder, float32型態,None不規定sample數量,10=對應x的y值為，維度為10的one-hot encoding\n",
    "ys = tf.placeholder(tf.float32,[None,10]) "
   ]
  },
  {
   "cell_type": "markdown",
   "metadata": {},
   "source": [
    "#### 架構神經網路"
   ]
  },
  {
   "cell_type": "code",
   "execution_count": 6,
   "metadata": {},
   "outputs": [],
   "source": [
    "#新增一層神經網路l1(隱藏層)\n",
    "l1 = add_layer(xs, 64, 50, 'l1',activation_function=tf.nn.tanh)\n",
    "#inputs=xs, in_size=8*8=64, out_size, name='l1',activation_function=tanh\n",
    "#輸入數據, 輸入數據input data size, 隱藏層神經元數量, 命名這一層叫l1(TensorBoard),激勵函數=tanh\n",
    "\n",
    "#新增一層輸出層prediction ///// add output(prediction) layer\n",
    "prediction = add_layer(l1, 50, 10, 'l2', activation_function=tf.nn.softmax)\n",
    "#inputs=l1, in_size, out_size, activation_function\n",
    "#輸入數據  *來自l1隱藏層=xs, 輸入數據size  *隱藏層size, 神經元輸出數量, 激勵函數=softmax"
   ]
  },
  {
   "cell_type": "code",
   "execution_count": 8,
   "metadata": {},
   "outputs": [],
   "source": [
    "#Loss : the error between prediction and real data\n",
    "cross_entropy = tf.reduce_mean(-tf.reduce_sum(ys*tf.log(prediction),axis=[1]))\n",
    "#reduction_indice=[1]在新版本Tensorflow已被取代為axis=[1]\n",
    "\n",
    "tf.summary.scalar('loss', cross_entropy)\n",
    "# 舊版代碼tf.scalar_summary('loss', cross_entropy)\n",
    "#Optimizer\n",
    "train_step = tf.train.GradientDescentOptimizer(0.6).minimize(cross_entropy) #優化器 #優化函數:梯度下降 #0.6為Learning rate "
   ]
  },
  {
   "cell_type": "code",
   "execution_count": 10,
   "metadata": {},
   "outputs": [],
   "source": [
    "sess=tf.Session()\n",
    "merged = tf.summary.merge_all() #舊版代碼 merged = tf.merge_all_summaries()\n",
    "#記錄所有summary到Tensorboard\n",
    "\n",
    "train_writer = tf.summary.FileWriter(\"logs/train\", sess.graph) #舊版代碼tf.train.SummaryWriter\n",
    "test_writer = tf.summary.FileWriter(\"logs/test\", sess.graph)\n",
    "\n",
    "\n",
    "init = tf.global_variables_initializer() #初始化/激活所有變量(Variable) #must have if define variable)\n",
    "sess.run(init)"
   ]
  },
  {
   "cell_type": "markdown",
   "metadata": {},
   "source": [
    "#### Training"
   ]
  },
  {
   "cell_type": "code",
   "execution_count": 12,
   "metadata": {},
   "outputs": [],
   "source": [
    "for i in range(1000):\n",
    "    sess.run(train_step, feed_dict={xs:X_train, ys:y_train, keep_prob:0.5})\n",
    "    if i % 50 ==0:\n",
    "        #record loss\n",
    "        train_result = sess.run(merged, feed_dict={xs:X_train, ys:y_train, keep_prob:1})\n",
    "        test_result = sess.run(merged, feed_dict={xs:X_test, ys:y_test, keep_prob:1})\n",
    "        train_writer.add_summary(train_result, i)\n",
    "        test_writer.add_summary(test_result, i)"
   ]
  },
  {
   "cell_type": "code",
   "execution_count": null,
   "metadata": {},
   "outputs": [],
   "source": [
    "#!tensorboard --logdir='D:\\Exercise\\logs'"
   ]
  },
  {
   "cell_type": "code",
   "execution_count": null,
   "metadata": {},
   "outputs": [],
   "source": []
  },
  {
   "cell_type": "code",
   "execution_count": null,
   "metadata": {},
   "outputs": [],
   "source": []
  }
 ],
 "metadata": {
  "kernelspec": {
   "display_name": "Python 3",
   "language": "python",
   "name": "python3"
  },
  "language_info": {
   "codemirror_mode": {
    "name": "ipython",
    "version": 3
   },
   "file_extension": ".py",
   "mimetype": "text/x-python",
   "name": "python",
   "nbconvert_exporter": "python",
   "pygments_lexer": "ipython3",
   "version": "3.7.3"
  }
 },
 "nbformat": 4,
 "nbformat_minor": 2
}
