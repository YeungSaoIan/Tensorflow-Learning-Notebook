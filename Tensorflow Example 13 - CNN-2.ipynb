{
 "cells": [
  {
   "cell_type": "markdown",
   "metadata": {},
   "source": [
    "# CNN - Convolutional Neural Networks.....Tutorial 2"
   ]
  },
  {
   "cell_type": "markdown",
   "metadata": {},
   "source": [
    "#### 請搭配教學影片服用\n",
    "#### Tutorial video: \n",
    "- CNN概念 https://www.youtube.com/watch?v=tjcgL5RIdTM\n",
    "- Tensorflow實現CNN-1 https://www.youtube.com/watch?v=tjcgL5RIdTM\n",
    "- Tensorflow實現CNN-2 https://www.youtube.com/watch?v=pjjH2dGGwwY"
   ]
  },
  {
   "cell_type": "code",
   "execution_count": 1,
   "metadata": {},
   "outputs": [],
   "source": [
    "#import tensorflow模組\n",
    "import tensorflow as tf\n",
    "#import mnist data 手寫數字資料集\n",
    "from tensorflow.examples.tutorials.mnist import input_data"
   ]
  },
  {
   "cell_type": "code",
   "execution_count": 2,
   "metadata": {},
   "outputs": [],
   "source": [
    "#重要!!!!!\n",
    "#清理顯卡內存\n",
    "#防止顯卡內存不足報錯&提高速度\n",
    "gpu_options = tf.GPUOptions(per_process_gpu_memory_fraction=0.333)  \n",
    "sess = tf.Session(config=tf.ConfigProto(gpu_options=gpu_options))  "
   ]
  },
  {
   "cell_type": "code",
   "execution_count": 3,
   "metadata": {},
   "outputs": [
    {
     "name": "stdout",
     "output_type": "stream",
     "text": [
      "WARNING:tensorflow:From <ipython-input-3-a354c44bd1c3>:2: read_data_sets (from tensorflow.contrib.learn.python.learn.datasets.mnist) is deprecated and will be removed in a future version.\n",
      "Instructions for updating:\n",
      "Please use alternatives such as official/mnist/dataset.py from tensorflow/models.\n",
      "WARNING:tensorflow:From C:\\Users\\Angel\\Anaconda3\\lib\\site-packages\\tensorflow\\contrib\\learn\\python\\learn\\datasets\\mnist.py:260: maybe_download (from tensorflow.contrib.learn.python.learn.datasets.base) is deprecated and will be removed in a future version.\n",
      "Instructions for updating:\n",
      "Please write your own downloading logic.\n",
      "WARNING:tensorflow:From C:\\Users\\Angel\\Anaconda3\\lib\\site-packages\\tensorflow\\contrib\\learn\\python\\learn\\datasets\\mnist.py:262: extract_images (from tensorflow.contrib.learn.python.learn.datasets.mnist) is deprecated and will be removed in a future version.\n",
      "Instructions for updating:\n",
      "Please use tf.data to implement this functionality.\n",
      "Extracting MNIST_data\\train-images-idx3-ubyte.gz\n",
      "WARNING:tensorflow:From C:\\Users\\Angel\\Anaconda3\\lib\\site-packages\\tensorflow\\contrib\\learn\\python\\learn\\datasets\\mnist.py:267: extract_labels (from tensorflow.contrib.learn.python.learn.datasets.mnist) is deprecated and will be removed in a future version.\n",
      "Instructions for updating:\n",
      "Please use tf.data to implement this functionality.\n",
      "Extracting MNIST_data\\train-labels-idx1-ubyte.gz\n",
      "WARNING:tensorflow:From C:\\Users\\Angel\\Anaconda3\\lib\\site-packages\\tensorflow\\contrib\\learn\\python\\learn\\datasets\\mnist.py:110: dense_to_one_hot (from tensorflow.contrib.learn.python.learn.datasets.mnist) is deprecated and will be removed in a future version.\n",
      "Instructions for updating:\n",
      "Please use tf.one_hot on tensors.\n",
      "Extracting MNIST_data\\t10k-images-idx3-ubyte.gz\n",
      "Extracting MNIST_data\\t10k-labels-idx1-ubyte.gz\n",
      "WARNING:tensorflow:From C:\\Users\\Angel\\Anaconda3\\lib\\site-packages\\tensorflow\\contrib\\learn\\python\\learn\\datasets\\mnist.py:290: DataSet.__init__ (from tensorflow.contrib.learn.python.learn.datasets.mnist) is deprecated and will be removed in a future version.\n",
      "Instructions for updating:\n",
      "Please use alternatives such as official/mnist/dataset.py from tensorflow/models.\n"
     ]
    }
   ],
   "source": [
    "#讀取mnist data\n",
    "mnist = input_data.read_data_sets('MNIST_data', one_hot=True)"
   ]
  },
  {
   "cell_type": "code",
   "execution_count": 5,
   "metadata": {},
   "outputs": [],
   "source": [
    "#定義compute_accuracy準確率功能___validation data\n",
    "def compute_accuracy(v_xs,v_ys):\n",
    "    global prediction #把prediction設成全域變量\n",
    "    y_pre = sess.run(prediction, feed_dict={xs: v_xs, keep_prob: 1}) #xs輸入到prediction生成預測值\n",
    "    correct_prediction = tf.equal(tf.argmax(y_pre,1), tf.argmax(v_ys,1)) #計算預測正確次數\n",
    "    accuracy = tf.reduce_mean(tf.cast(correct_prediction, tf.float32)) #計算準確率\n",
    "    result = sess.run(accuracy, feed_dict={xs: v_xs, ys: v_ys, keep_prob: 1})\n",
    "    return result"
   ]
  },
  {
   "cell_type": "code",
   "execution_count": 6,
   "metadata": {},
   "outputs": [],
   "source": [
    "#定義權重函數(輸入shape)\n",
    "def weight_variable(shape):\n",
    "    inital = tf.truncated_normal(shape, stddev=0.1)\n",
    "    #tf.truncated_normal()函式是一種“截斷”方式生成正太分佈隨機值\n",
    "    #“截斷”意思指生成的隨機數值與均值的差不能大於兩倍中誤差，否則會重新生成\n",
    "    #\n",
    "    #參數說明：\n",
    "        #shape：表示生成隨機數的維度\n",
    "        #mean：正太分佈的均值，預設為0\n",
    "        #stddev：正太分佈的標準差\n",
    "        #dtype：生成正太分佈資料的型別\n",
    "        #seed：一個整數，當設定之後，每次生成的隨機數都一樣\n",
    "        #name：正太分佈的名字\n",
    "    return tf.Variable(inital)"
   ]
  },
  {
   "cell_type": "code",
   "execution_count": 7,
   "metadata": {},
   "outputs": [],
   "source": [
    "#定義偏差函數(輸入shape)\n",
    "def bias_variable(shape):\n",
    "    inital = tf.constant(0.1,shape=shape) #生成常數0.1\n",
    "    return tf.Variable(inital)"
   ]
  },
  {
   "cell_type": "code",
   "execution_count": 8,
   "metadata": {},
   "outputs": [],
   "source": [
    "#定義卷積層\n",
    "def conv2d(x, W):\n",
    "    return tf.nn.conv2d(x, W, strides=[1,1,1,1],padding='SAME') \n",
    "    #tf.nn.conv2d -> tensorflow卷積層，參數(x=輸入sample/影像size, W=卷積層權重, \n",
    "    #strides=kernel掃描影像間距(unit=px)= [1是Tensorflow規定,x方向跨度,y方向跨度,1是Tensorflow規定]) *一步掃描一次\n",
    "    #strides=[1,x_movement,y_movement,1]\n",
    "    #Must have strides[0] = strides[3] = 1\n",
    "    #Padding參數:\n",
    "    #-'SAME':kernel掃描part of patch outside of this image, it will fill the outer area as 0, 掃描完後組合起來的影像Size=原圖\n",
    "    #-'VALID':kernel掃描範圍always in image,掃描完後組合起來的影像會比原圖小 "
   ]
  },
  {
   "cell_type": "code",
   "execution_count": 9,
   "metadata": {},
   "outputs": [],
   "source": [
    "#定義pooling 把影像組合起來囉\n",
    "def max_pool_2x2(x):\n",
    "    return tf.nn.max_pool(x, ksize=[1,2,2,1], strides=[1,2,2,1],padding='SAME') # <--這邊strides跨度為2 *兩步掃描一次\n",
    "#tf.nn.max_pool -> max pooling卷積層，參數(x=輸入sample/影像size, 不用輸入權重,\n",
    "#Must have strides[0] = strides[3] = 1\n",
    "#掃描影像間距，透過把x_movement,y_movement增加，壓縮影像。 -> strides=[1,2,2,1]\n",
    "#ksize = kernel shape"
   ]
  },
  {
   "cell_type": "code",
   "execution_count": 10,
   "metadata": {},
   "outputs": [],
   "source": [
    "tf.reset_default_graph()\n",
    "#輸入data xs->placeholder, float32型態,None不規定sample數量,784=28*28輸入影像像素\n",
    "xs = tf.placeholder(tf.float32,[None,784])\n",
    "#輸入data ys->placeholder, float32型態,None不規定sample數量,10=對應x的y值為，維度為10的one-hot encoding\n",
    "ys = tf.placeholder(tf.float32,[None,10]) \n",
    "\n",
    "keep_prob = tf.placeholder(tf.float32)\n",
    "#改變輸入影像型式\n",
    "x_image = tf.reshape(xs, [-1, 28, 28, 1]) #tf.reshape(傳入資料xs, [-1\"ignore維度\", 28, 28\"影像size 28*28\", 1\"顏色channel\"])\n",
    "#print(x_image.shape) #[n_sample, 28, 28, 1]\n"
   ]
  },
  {
   "cell_type": "code",
   "execution_count": 11,
   "metadata": {},
   "outputs": [],
   "source": [
    "## conv1 layer ##\n",
    "W_conv1 = weight_variable([5, 5, 1, 32]) #[5, 5\"kernel size 5*5\", 1\"image的厚度\", 32\"image的高度\"]\n",
    "                                         #kernel 5x5, in size 1, out size 32\n",
    "b_conv1 = bias_variable([32]) #out size 32\n",
    "h_conv1 = tf.nn.relu(conv2d(x_image, W_conv1) + b_conv1) #hidden conv layer 1 #y=wx+b #用x_image輸入卷積層, 使用relu作激勵函數\n",
    "#h_conv1 output size=28*28*32 #32=\"image的高度\"\n",
    "h_pool1 = max_pool_2x2(h_conv1) #把卷積層資料輸入到max pooling\n",
    "#h_pool1 output size=14*14*32 #由於max_pool定義strides為跨2步組合影像，所以2D size減半"
   ]
  },
  {
   "cell_type": "code",
   "execution_count": 12,
   "metadata": {},
   "outputs": [],
   "source": [
    "## conv2 layer ##\n",
    "W_conv2 = weight_variable([5, 5, 32, 64]) #[5, 5\"kernel size 5*5\", 1\"image的厚度\", 32\"image的高度\"]\n",
    "                                         #kernel 5x5, in size 32, out size 64\n",
    "b_conv2 = bias_variable([64]) #out size 64\n",
    "h_conv2 = tf.nn.relu(conv2d(h_pool1, W_conv2) + b_conv2) #hidden conv layer 1 #y=wx+b #用x_image輸入卷積層, 使用relu作激勵函數\n",
    "#h_conv2 output size=14*14*64              #64=\"image的高度\"\n",
    "h_pool2 = max_pool_2x2(h_conv2)            #把卷積層資料輸入到max pooling\n",
    "#h_pool2 output size=7*7*64                #由於max_pool定義strides為跨2步組合影像，所以2D size減半"
   ]
  },
  {
   "cell_type": "code",
   "execution_count": 13,
   "metadata": {},
   "outputs": [
    {
     "name": "stdout",
     "output_type": "stream",
     "text": [
      "WARNING:tensorflow:From <ipython-input-13-39a6fb4e3544>:7: calling dropout (from tensorflow.python.ops.nn_ops) with keep_prob is deprecated and will be removed in a future version.\n",
      "Instructions for updating:\n",
      "Please use `rate` instead of `keep_prob`. Rate should be set to `rate = 1 - keep_prob`.\n"
     ]
    }
   ],
   "source": [
    "## func1 layer ##\n",
    "W_fc1 = weight_variable([7*7*64, 1024]) #把image的高度增大至1024 # [n_samples, 7, 7, 64] ->> [n_samples, 7*7*64]\n",
    "b_fc1 = bias_variable([1024])\n",
    "h_pool2_flat = tf.reshape(h_pool2, [-1, 7*7*64]) #把影像壓平，維度->1\n",
    "# [n_samples, 7, 7, 64] ->> [n_samples, 7*7*64]\n",
    "h_fc1 = tf.nn.relu(tf.matmul(h_pool2_flat, W_fc1) + b_fc1) #y=wx+b\n",
    "h_fc1_drop = tf.nn.dropout(h_fc1, keep_prob) #dropout"
   ]
  },
  {
   "cell_type": "code",
   "execution_count": 14,
   "metadata": {},
   "outputs": [],
   "source": [
    "## func2 layer ##\n",
    "W_fc2 = weight_variable([1024, 10]) #把image的高度增大至1024 # [n_samples, 7, 7, 64] ->> [n_samples, 7*7*64]\n",
    "b_fc2 = bias_variable([10])\n",
    "prediction = tf.nn.softmax(tf.matmul(h_fc1_drop, W_fc2) + b_fc2) #y=wx+b #以softmax計算結果概率 #0-9手寫圖片"
   ]
  },
  {
   "cell_type": "code",
   "execution_count": 15,
   "metadata": {},
   "outputs": [],
   "source": [
    "#Loss : the error between prediction and real data\n",
    "cross_entropy = tf.reduce_mean(-tf.reduce_sum(ys*tf.log(prediction),axis=[1]))\n",
    "#reduction_indice=[1]在新版本Tensorflow已被取代為axis=[1]\n",
    "\n",
    "#Optimizer\n",
    "train_step = tf.train.AdamOptimizer(1e-4).minimize(cross_entropy) #優化器 #優化函數:梯度下降 #1e-4=0.0001為Learning rate "
   ]
  },
  {
   "cell_type": "code",
   "execution_count": 16,
   "metadata": {},
   "outputs": [],
   "source": [
    "sess = tf.Session()\n",
    "init = tf.global_variables_initializer() #important step\n",
    "sess.run(init)"
   ]
  },
  {
   "cell_type": "code",
   "execution_count": 17,
   "metadata": {},
   "outputs": [
    {
     "name": "stdout",
     "output_type": "stream",
     "text": [
      "0.068\n",
      "0.766\n",
      "0.858\n",
      "0.88\n",
      "0.918\n",
      "0.922\n",
      "0.931\n",
      "0.93\n",
      "0.937\n",
      "0.945\n",
      "0.948\n",
      "0.953\n",
      "0.954\n",
      "0.956\n",
      "0.967\n",
      "0.965\n",
      "0.96\n",
      "0.965\n",
      "0.968\n",
      "0.968\n"
     ]
    }
   ],
   "source": [
    "for i in range(1000):\n",
    "    batch_xs, batch_ys = mnist.train.next_batch(100)\n",
    "    sess.run(train_step, feed_dict={xs: batch_xs, ys: batch_ys, keep_prob: 0.5})\n",
    "    if i % 50 == 0:\n",
    "        print(compute_accuracy(\n",
    "            mnist.test.images[:1000], mnist.test.labels[:1000]))"
   ]
  },
  {
   "cell_type": "code",
   "execution_count": null,
   "metadata": {},
   "outputs": [],
   "source": []
  },
  {
   "cell_type": "code",
   "execution_count": null,
   "metadata": {},
   "outputs": [],
   "source": []
  },
  {
   "cell_type": "code",
   "execution_count": null,
   "metadata": {},
   "outputs": [],
   "source": []
  }
 ],
 "metadata": {
  "kernelspec": {
   "display_name": "Python 3",
   "language": "python",
   "name": "python3"
  },
  "language_info": {
   "codemirror_mode": {
    "name": "ipython",
    "version": 3
   },
   "file_extension": ".py",
   "mimetype": "text/x-python",
   "name": "python",
   "nbconvert_exporter": "python",
   "pygments_lexer": "ipython3",
   "version": "3.7.3"
  }
 },
 "nbformat": 4,
 "nbformat_minor": 2
}
