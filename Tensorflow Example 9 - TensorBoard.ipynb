{
 "cells": [
  {
   "cell_type": "markdown",
   "metadata": {},
   "source": [
    "# TensorBoard"
   ]
  },
  {
   "cell_type": "markdown",
   "metadata": {},
   "source": [
    "#### 請搭配教學影片服用\n",
    "#### Tutorial video: https://www.youtube.com/watch?v=SDeQRRRMUHU"
   ]
  },
  {
   "cell_type": "markdown",
   "metadata": {},
   "source": [
    "#### 延伸上一次練習程式碼"
   ]
  },
  {
   "cell_type": "code",
   "execution_count": 1,
   "metadata": {},
   "outputs": [],
   "source": [
    "#import tensorflow, numpy模組\n",
    "import tensorflow as tf\n",
    "import numpy as np\n",
    "\n",
    "#import matplotlib 資料視覺化模組\n",
    "#import matplotlib.pyplot as plt"
   ]
  },
  {
   "cell_type": "code",
   "execution_count": 2,
   "metadata": {},
   "outputs": [],
   "source": [
    "#重要!!!!!\n",
    "#清理顯卡內存\n",
    "#防止顯卡內存不足報錯&提高速度\n",
    "gpu_options = tf.GPUOptions(per_process_gpu_memory_fraction=0.333)  \n",
    "sess = tf.Session(config=tf.ConfigProto(gpu_options=gpu_options))  "
   ]
  },
  {
   "cell_type": "code",
   "execution_count": 3,
   "metadata": {},
   "outputs": [],
   "source": [
    "#定義add_layer功能(添加神經層)\n",
    "#inputs, in_size, out_size, activation_funchion=None激勵函數\n",
    "def add_layer(inputs, in_size, out_size, activation_function=None):\n",
    "    with tf.name_scope('layer'): #給予整個\"神經層\"名字為layer\n",
    "        with tf.name_scope('weights'): #給予權重名字為weights\n",
    "            Weights = tf.Variable(tf.random_normal([in_size, out_size]), name='W') #給予權重參數名字為W\n",
    "        with tf.name_scope('biases'): #給予誤差名字為biases\n",
    "            biases = tf.Variable(tf.zeros([1, out_size]) + 0.1, name='b') #給予誤差參數名字為b\n",
    "        with tf.name_scope('Wx_plus_b'): #給予方程名字為Wx_plus_b\n",
    "            Wx_plus_b = tf.matmul(inputs, Weights) + biases #y=wx+b\n",
    "        if activation_function is None:\n",
    "            outputs = Wx_plus_b\n",
    "        else:\n",
    "            outputs = activation_function(Wx_plus_b)\n",
    "        return outputs"
   ]
  },
  {
   "cell_type": "code",
   "execution_count": 4,
   "metadata": {},
   "outputs": [],
   "source": [
    "#輸入資料\n",
    "x_data = np.linspace(-1, 1, 300)[:, np.newaxis] #生成300個區間為[-1,1]的數值, 然後縱向生成一個維度 #維度為一\n",
    "noise = np.random.normal(0, 0.05, x_data.shape)\n",
    "y_data = np.square(x_data) - 0.5 + noise\n",
    "\n",
    "#預留輸入給sess.run()進行訓練\n",
    "with tf.name_scope('inputs'): #給予整個輸入名字為inputs\n",
    "    xs = tf.placeholder(tf.float32, [None, 1], name='x_input') #給予xs名字為x_input\n",
    "    ys = tf.placeholder(tf.float32, [None, 1], name='y_input') #給予ys名字為y_input"
   ]
  },
  {
   "cell_type": "code",
   "execution_count": 5,
   "metadata": {},
   "outputs": [],
   "source": [
    "#新增一層神經網路l1(隱藏層)\n",
    "l1 = add_layer(xs, 1, 10, activation_function=tf.nn.relu)\n",
    "#inputs, in_size, out_size, activation_function\n",
    "#輸入數據, 輸入數據input data size, 隱藏層神經元數量, 激勵函數\n",
    "\n",
    "#新增一層輸出層prediction\n",
    "prediction = add_layer(l1, 10, 1, activation_function=None)\n",
    "#inputs, in_size, out_size, activation_function\n",
    "#輸入數據  *來自l1隱藏層=xs, 輸入數據size  *隱藏層size, 神經元輸出數量, 激勵函數\n",
    "\n",
    "#評估 prediction值 與 y_data真實值的差別  (y_data輸入=ys)-prediction #方差\n",
    "with tf.name_scope('loss'):#給予損失名字為loss\n",
    "    loss = tf.reduce_mean(tf.reduce_sum(tf.square(ys - prediction),reduction_indices=[1])) #方差\n",
    "    \n",
    "with tf.name_scope('train'):#給予訓練名字為train\n",
    "    train_step = tf.train.GradientDescentOptimizer(0.1).minimize(loss) #優化器 #優化函數:梯度下降 #0.1為Learning rate \n",
    "\n",
    "init = tf.global_variables_initializer() #初始化/激活所有變量(Variable) #must have if define variable\n",
    "sess = tf.Session()\n",
    "\n",
    "writer = tf.summary.FileWriter(\"logs/\", sess.graph) #設定Tensorboard畫圖儲存路徑及定義sess.graph畫圖功能\n",
    "\n",
    "sess.run(init)"
   ]
  },
  {
   "cell_type": "raw",
   "metadata": {},
   "source": [
    "#資料視覺化\n",
    "fig = plt.figure() #生成一個空白圖片框\n",
    "ax = fig.add_subplot(1,1,1) #\n",
    "ax.scatter(x_data, y_data) #真實數據畫圖\n",
    "#plt.ion #讓生成圖片不會停止，隨資料變動而更新\n",
    "plt.show() #顯示圖片"
   ]
  },
  {
   "cell_type": "markdown",
   "metadata": {},
   "source": [
    "### Training"
   ]
  },
  {
   "cell_type": "raw",
   "metadata": {},
   "source": [
    "for i in range(1000):\n",
    "    sess.run(train_step, feed_dict={xs: x_data, ys: y_data}) #輸入x_data = xs, y_data = ys\n",
    "    if i % 50 == 0:\n",
    "        print(i + sess.run(loss, feed_dict={xs: x_data, ys: y_data})) #每50步print loss檢視訓練成效\n",
    "        \n",
    "        try:\n",
    "            ax.lines.remove(lines[0]) #去除lines的第一個單位結果 #讓線段變清晰 \n",
    "            #放在這裡的原因是剛開始跑的時候，沒有數據也沒有線段，找不到可\"處理\"的數據/線段，會當機報錯\n",
    "        except Exception:\n",
    "            pass\n",
    "        prediction_value = sess.run(prediction, feed_dict={xs: x_data, ys: y_data}) #計算prediction預測結果\n",
    "        #資料視覺化\n",
    "        lines = ax.plot(x_data, prediction_value, 'r-', lw=2) #利用x_data, prediction_value畫圖\n",
    "                                                              #其中prediction_value以寬度為2的紅色線段畫出來\n",
    "        #ax.lines.remove(lines[0]) #去除lines的第一個單位結果 #讓線段變清晰\n",
    "        plt.pause(0.1) #畫每一段線段之間暫停0.1秒 #讓線段變清晰\n",
    "        #plt.ion #讓生成圖片不會停止，隨資料變動而更新\n",
    "        if i == 950:\n",
    "            fig = plt.figure() #生成一個空白圖片框\n",
    "            ax = fig.add_subplot(1,1,1)\n",
    "            lines = ax.plot(x_data, prediction_value, 'r-', lw=2)\n",
    "            plt.show() #顯示圖片"
   ]
  },
  {
   "cell_type": "raw",
   "metadata": {},
   "source": [
    "for i in range(1000):\n",
    "    sess.run(train_step, feed_dict={xs: x_data, ys: y_data}) #輸入x_data = xs, y_data = ys\n",
    "    if i % 50 == 0:\n",
    "        print(i + sess.run(loss, feed_dict={xs: x_data, ys: y_data})) #每50步print loss檢視訓練成效"
   ]
  },
  {
   "cell_type": "code",
   "execution_count": 6,
   "metadata": {},
   "outputs": [],
   "source": [
    "#!tensorboard --logdir=D:\\Exercise\\logs"
   ]
  },
  {
   "cell_type": "code",
   "execution_count": null,
   "metadata": {},
   "outputs": [],
   "source": []
  }
 ],
 "metadata": {
  "kernelspec": {
   "display_name": "Python 3",
   "language": "python",
   "name": "python3"
  },
  "language_info": {
   "codemirror_mode": {
    "name": "ipython",
    "version": 3
   },
   "file_extension": ".py",
   "mimetype": "text/x-python",
   "name": "python",
   "nbconvert_exporter": "python",
   "pygments_lexer": "ipython3",
   "version": "3.7.3"
  }
 },
 "nbformat": 4,
 "nbformat_minor": 2
}
