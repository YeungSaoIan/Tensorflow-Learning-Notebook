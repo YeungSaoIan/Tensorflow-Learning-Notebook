{
 "cells": [
  {
   "cell_type": "markdown",
   "metadata": {},
   "source": [
    "# Tensorflow Structure"
   ]
  },
  {
   "cell_type": "markdown",
   "metadata": {},
   "source": [
    "#### 請搭配教學影片服用\n",
    "#### Tutorial video: https://www.youtube.com/watch?v=JKR1Dxinwwc&list=PLXO45tsB95cKI5AIlf5TxxFPzb-0zeVZ8"
   ]
  },
  {
   "cell_type": "markdown",
   "metadata": {},
   "source": [
    "![](https://www.tensorflow.org/images/tensors_flowing.gif)"
   ]
  },
  {
   "cell_type": "code",
   "execution_count": 2,
   "metadata": {},
   "outputs": [],
   "source": [
    "#import tensorflow, numpy模組\n",
    "import tensorflow as tf\n",
    "import numpy as np"
   ]
  },
  {
   "cell_type": "code",
   "execution_count": 3,
   "metadata": {},
   "outputs": [],
   "source": [
    "#隨機生成Data\n",
    "x_data = np.random.rand(100).astype(np.float32) #使用numpy隨機生成100個float32資料型式的數列 #自變量\n",
    "#float32為Tensorflow常用的輸入資料型式\n",
    "y_data = x_data*0.1+0.3                                                                 #因變量"
   ]
  },
  {
   "cell_type": "code",
   "execution_count": 4,
   "metadata": {},
   "outputs": [
    {
     "name": "stdout",
     "output_type": "stream",
     "text": [
      "[0.7802184  0.38028112 0.20526223 0.3248826  0.24015835 0.34716964\n",
      " 0.26266783 0.9143005  0.99512005 0.45080248 0.11493596 0.16588198\n",
      " 0.8242011  0.07824167 0.08364776 0.50364906 0.70469123 0.5643997\n",
      " 0.53306615 0.06037084 0.08283643 0.6492741  0.5054011  0.78627324\n",
      " 0.10413934 0.86522675 0.9251146  0.6721371  0.421106   0.64043134\n",
      " 0.9194741  0.18216576 0.7989822  0.70769745 0.73937136 0.378324\n",
      " 0.6668073  0.66360146 0.6681176  0.10695359 0.909522   0.5786819\n",
      " 0.24577704 0.5294205  0.2722998  0.9963308  0.26552874 0.10946237\n",
      " 0.6336396  0.50335723 0.61349934 0.8401983  0.7483848  0.3102122\n",
      " 0.26210773 0.3892194  0.09101269 0.18378355 0.42920667 0.8471443\n",
      " 0.73327464 0.42728546 0.8783865  0.21636523 0.7545766  0.920146\n",
      " 0.9693064  0.782688   0.16970329 0.24819694 0.7258494  0.01190695\n",
      " 0.02292883 0.27807647 0.42944098 0.3544276  0.15459979 0.7615165\n",
      " 0.729621   0.29094392 0.74417984 0.6453564  0.16974667 0.24151582\n",
      " 0.6581965  0.38931522 0.15657355 0.5582646  0.72103703 0.3072235\n",
      " 0.61382115 0.23813468 0.22734669 0.9947019  0.3489177  0.03015788\n",
      " 0.07545255 0.6016727  0.82145625 0.5091585 ]\n"
     ]
    }
   ],
   "source": [
    "#印x_data出來看看\n",
    "print(x_data)"
   ]
  },
  {
   "cell_type": "code",
   "execution_count": 5,
   "metadata": {},
   "outputs": [],
   "source": [
    "#開始創建Tensorflow結構\n",
    "Weights = tf.Variable(tf.random_uniform([1],-1.0,1.0)) #隨機生成區間為[-1,1]的1維變量數值\n",
    "biases = tf.Variable(tf.zeros([1])) #建立初始為零的偏差\n",
    "\n",
    "y = Weights * x_data + biases # y=wx+b\n",
    "\n",
    "loss = tf.reduce_mean(tf.square(y-y_data)) #計算損失/誤差:方差(電腦計算的值-實際答案的值)\n",
    "\n",
    "optimizer = tf.train.GradientDescentOptimizer(0.5) #優化函數:梯度下降 #優化器\n",
    "train = optimizer.minimize(loss) #使用優化器減少計算誤差\n",
    "\n",
    "#init = tf.initialize_all_variables() #初始化/激活所有變量(Variable) & Tensorflow結構 #舊版代碼\n",
    "init = tf.global_variables_initializer() #新版代碼\n",
    "#結束創建Tensorflow結構"
   ]
  },
  {
   "cell_type": "code",
   "execution_count": 6,
   "metadata": {},
   "outputs": [],
   "source": [
    "#激活/啟動 Tensorflow結構\n",
    "sess = tf.Session()\n",
    "sess.run(init)       #Very important"
   ]
  },
  {
   "cell_type": "code",
   "execution_count": 7,
   "metadata": {},
   "outputs": [
    {
     "name": "stdout",
     "output_type": "stream",
     "text": [
      "0 [-0.10719526] [0.5518525]\n",
      "20 [0.02889061] [0.33698353]\n",
      "40 [0.08100337] [0.30988005]\n",
      "60 [0.0949251] [0.30263942]\n",
      "80 [0.09864426] [0.30070513]\n",
      "100 [0.09963781] [0.3001884]\n",
      "120 [0.09990325] [0.30005035]\n",
      "140 [0.09997417] [0.30001345]\n",
      "160 [0.0999931] [0.3000036]\n",
      "180 [0.09999817] [0.30000097]\n",
      "200 [0.09999951] [0.30000028]\n"
     ]
    }
   ],
   "source": [
    "#開始訓練\n",
    "for step in range(201): #訓練201步\n",
    "    sess.run(train)\n",
    "    if step % 20 == 0:  #每訓練20步, print步數、weight、biases\n",
    "        print(step, sess.run(Weights), sess.run(biases))"
   ]
  },
  {
   "cell_type": "code",
   "execution_count": null,
   "metadata": {},
   "outputs": [],
   "source": []
  },
  {
   "cell_type": "code",
   "execution_count": null,
   "metadata": {},
   "outputs": [],
   "source": []
  },
  {
   "cell_type": "code",
   "execution_count": null,
   "metadata": {},
   "outputs": [],
   "source": []
  },
  {
   "cell_type": "code",
   "execution_count": null,
   "metadata": {},
   "outputs": [],
   "source": []
  }
 ],
 "metadata": {
  "kernelspec": {
   "display_name": "Python 3",
   "language": "python",
   "name": "python3"
  },
  "language_info": {
   "codemirror_mode": {
    "name": "ipython",
    "version": 3
   },
   "file_extension": ".py",
   "mimetype": "text/x-python",
   "name": "python",
   "nbconvert_exporter": "python",
   "pygments_lexer": "ipython3",
   "version": "3.7.3"
  }
 },
 "nbformat": 4,
 "nbformat_minor": 2
}
